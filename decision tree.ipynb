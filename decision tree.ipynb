{
 "cells": [
  {
   "cell_type": "code",
   "execution_count": 1,
   "id": "23144257",
   "metadata": {},
   "outputs": [],
   "source": []
  },
  {
   "cell_type": "code",
   "execution_count": 2,
   "id": "9521e251",
   "metadata": {},
   "outputs": [],
   "source": [
    "\n",
    "import pandas as pd\n",
    "import numpy as np\n",
    "import matplotlib.pyplot as plt\n",
    "\n"
   ]
  },
  {
   "cell_type": "code",
   "execution_count": 3,
   "id": "294da40a",
   "metadata": {},
   "outputs": [],
   "source": [
    "import sklearn\n"
   ]
  },
  {
   "cell_type": "code",
   "execution_count": 4,
   "id": "7227ecca",
   "metadata": {},
   "outputs": [],
   "source": [
    "from sklearn import datasets\n",
    "dataset=datasets.load_iris()\n",
    "f=pd.DataFrame(dataset.data,columns=dataset.feature_names)"
   ]
  },
  {
   "cell_type": "code",
   "execution_count": 5,
   "id": "054ad0ac",
   "metadata": {},
   "outputs": [],
   "source": [
    "from sklearn.model_selection import train_test_split \n",
    "from sklearn import tree\n",
    "from sklearn.tree import DecisionTreeClassifier\n",
    "from sklearn.metrics import classification_report\n",
    "from sklearn import preprocessing"
   ]
  },
  {
   "cell_type": "code",
   "execution_count": 6,
   "id": "ca2a862c",
   "metadata": {},
   "outputs": [],
   "source": [
    "df=pd.read_csv(\"C:/Users/Apeksha/Downloads/iris(1).csv\")"
   ]
  },
  {
   "cell_type": "code",
   "execution_count": 7,
   "id": "17e59352",
   "metadata": {},
   "outputs": [
    {
     "data": {
      "text/html": [
       "<div>\n",
       "<style scoped>\n",
       "    .dataframe tbody tr th:only-of-type {\n",
       "        vertical-align: middle;\n",
       "    }\n",
       "\n",
       "    .dataframe tbody tr th {\n",
       "        vertical-align: top;\n",
       "    }\n",
       "\n",
       "    .dataframe thead th {\n",
       "        text-align: right;\n",
       "    }\n",
       "</style>\n",
       "<table border=\"1\" class=\"dataframe\">\n",
       "  <thead>\n",
       "    <tr style=\"text-align: right;\">\n",
       "      <th></th>\n",
       "      <th>Sepal.Length</th>\n",
       "      <th>Sepal.Width</th>\n",
       "      <th>Petal.Length</th>\n",
       "      <th>Petal.Width</th>\n",
       "      <th>Species</th>\n",
       "    </tr>\n",
       "  </thead>\n",
       "  <tbody>\n",
       "    <tr>\n",
       "      <th>0</th>\n",
       "      <td>5.1</td>\n",
       "      <td>3.5</td>\n",
       "      <td>1.4</td>\n",
       "      <td>0.2</td>\n",
       "      <td>setosa</td>\n",
       "    </tr>\n",
       "    <tr>\n",
       "      <th>1</th>\n",
       "      <td>4.9</td>\n",
       "      <td>3.0</td>\n",
       "      <td>1.4</td>\n",
       "      <td>0.2</td>\n",
       "      <td>setosa</td>\n",
       "    </tr>\n",
       "    <tr>\n",
       "      <th>2</th>\n",
       "      <td>4.7</td>\n",
       "      <td>3.2</td>\n",
       "      <td>1.3</td>\n",
       "      <td>0.2</td>\n",
       "      <td>setosa</td>\n",
       "    </tr>\n",
       "    <tr>\n",
       "      <th>3</th>\n",
       "      <td>4.6</td>\n",
       "      <td>3.1</td>\n",
       "      <td>1.5</td>\n",
       "      <td>0.2</td>\n",
       "      <td>setosa</td>\n",
       "    </tr>\n",
       "    <tr>\n",
       "      <th>4</th>\n",
       "      <td>5.0</td>\n",
       "      <td>3.6</td>\n",
       "      <td>1.4</td>\n",
       "      <td>0.2</td>\n",
       "      <td>setosa</td>\n",
       "    </tr>\n",
       "    <tr>\n",
       "      <th>...</th>\n",
       "      <td>...</td>\n",
       "      <td>...</td>\n",
       "      <td>...</td>\n",
       "      <td>...</td>\n",
       "      <td>...</td>\n",
       "    </tr>\n",
       "    <tr>\n",
       "      <th>145</th>\n",
       "      <td>6.7</td>\n",
       "      <td>3.0</td>\n",
       "      <td>5.2</td>\n",
       "      <td>2.3</td>\n",
       "      <td>virginica</td>\n",
       "    </tr>\n",
       "    <tr>\n",
       "      <th>146</th>\n",
       "      <td>6.3</td>\n",
       "      <td>2.5</td>\n",
       "      <td>5.0</td>\n",
       "      <td>1.9</td>\n",
       "      <td>virginica</td>\n",
       "    </tr>\n",
       "    <tr>\n",
       "      <th>147</th>\n",
       "      <td>6.5</td>\n",
       "      <td>3.0</td>\n",
       "      <td>5.2</td>\n",
       "      <td>2.0</td>\n",
       "      <td>virginica</td>\n",
       "    </tr>\n",
       "    <tr>\n",
       "      <th>148</th>\n",
       "      <td>6.2</td>\n",
       "      <td>3.4</td>\n",
       "      <td>5.4</td>\n",
       "      <td>2.3</td>\n",
       "      <td>virginica</td>\n",
       "    </tr>\n",
       "    <tr>\n",
       "      <th>149</th>\n",
       "      <td>5.9</td>\n",
       "      <td>3.0</td>\n",
       "      <td>5.1</td>\n",
       "      <td>1.8</td>\n",
       "      <td>virginica</td>\n",
       "    </tr>\n",
       "  </tbody>\n",
       "</table>\n",
       "<p>150 rows × 5 columns</p>\n",
       "</div>"
      ],
      "text/plain": [
       "     Sepal.Length  Sepal.Width  Petal.Length  Petal.Width    Species\n",
       "0             5.1          3.5           1.4          0.2     setosa\n",
       "1             4.9          3.0           1.4          0.2     setosa\n",
       "2             4.7          3.2           1.3          0.2     setosa\n",
       "3             4.6          3.1           1.5          0.2     setosa\n",
       "4             5.0          3.6           1.4          0.2     setosa\n",
       "..            ...          ...           ...          ...        ...\n",
       "145           6.7          3.0           5.2          2.3  virginica\n",
       "146           6.3          2.5           5.0          1.9  virginica\n",
       "147           6.5          3.0           5.2          2.0  virginica\n",
       "148           6.2          3.4           5.4          2.3  virginica\n",
       "149           5.9          3.0           5.1          1.8  virginica\n",
       "\n",
       "[150 rows x 5 columns]"
      ]
     },
     "execution_count": 7,
     "metadata": {},
     "output_type": "execute_result"
    }
   ],
   "source": [
    "df"
   ]
  },
  {
   "cell_type": "code",
   "execution_count": 8,
   "id": "65cb11b6",
   "metadata": {},
   "outputs": [],
   "source": [
    "qw=preprocessing.LabelEncoder()\n",
    "df[\"Species\"]=qw.fit_transform(df[\"Species\"])"
   ]
  },
  {
   "cell_type": "code",
   "execution_count": 9,
   "id": "f8947727",
   "metadata": {},
   "outputs": [
    {
     "data": {
      "text/html": [
       "<div>\n",
       "<style scoped>\n",
       "    .dataframe tbody tr th:only-of-type {\n",
       "        vertical-align: middle;\n",
       "    }\n",
       "\n",
       "    .dataframe tbody tr th {\n",
       "        vertical-align: top;\n",
       "    }\n",
       "\n",
       "    .dataframe thead th {\n",
       "        text-align: right;\n",
       "    }\n",
       "</style>\n",
       "<table border=\"1\" class=\"dataframe\">\n",
       "  <thead>\n",
       "    <tr style=\"text-align: right;\">\n",
       "      <th></th>\n",
       "      <th>Sepal.Length</th>\n",
       "      <th>Sepal.Width</th>\n",
       "      <th>Petal.Length</th>\n",
       "      <th>Petal.Width</th>\n",
       "      <th>Species</th>\n",
       "    </tr>\n",
       "  </thead>\n",
       "  <tbody>\n",
       "    <tr>\n",
       "      <th>0</th>\n",
       "      <td>5.1</td>\n",
       "      <td>3.5</td>\n",
       "      <td>1.4</td>\n",
       "      <td>0.2</td>\n",
       "      <td>0</td>\n",
       "    </tr>\n",
       "    <tr>\n",
       "      <th>1</th>\n",
       "      <td>4.9</td>\n",
       "      <td>3.0</td>\n",
       "      <td>1.4</td>\n",
       "      <td>0.2</td>\n",
       "      <td>0</td>\n",
       "    </tr>\n",
       "    <tr>\n",
       "      <th>2</th>\n",
       "      <td>4.7</td>\n",
       "      <td>3.2</td>\n",
       "      <td>1.3</td>\n",
       "      <td>0.2</td>\n",
       "      <td>0</td>\n",
       "    </tr>\n",
       "    <tr>\n",
       "      <th>3</th>\n",
       "      <td>4.6</td>\n",
       "      <td>3.1</td>\n",
       "      <td>1.5</td>\n",
       "      <td>0.2</td>\n",
       "      <td>0</td>\n",
       "    </tr>\n",
       "    <tr>\n",
       "      <th>4</th>\n",
       "      <td>5.0</td>\n",
       "      <td>3.6</td>\n",
       "      <td>1.4</td>\n",
       "      <td>0.2</td>\n",
       "      <td>0</td>\n",
       "    </tr>\n",
       "    <tr>\n",
       "      <th>...</th>\n",
       "      <td>...</td>\n",
       "      <td>...</td>\n",
       "      <td>...</td>\n",
       "      <td>...</td>\n",
       "      <td>...</td>\n",
       "    </tr>\n",
       "    <tr>\n",
       "      <th>145</th>\n",
       "      <td>6.7</td>\n",
       "      <td>3.0</td>\n",
       "      <td>5.2</td>\n",
       "      <td>2.3</td>\n",
       "      <td>2</td>\n",
       "    </tr>\n",
       "    <tr>\n",
       "      <th>146</th>\n",
       "      <td>6.3</td>\n",
       "      <td>2.5</td>\n",
       "      <td>5.0</td>\n",
       "      <td>1.9</td>\n",
       "      <td>2</td>\n",
       "    </tr>\n",
       "    <tr>\n",
       "      <th>147</th>\n",
       "      <td>6.5</td>\n",
       "      <td>3.0</td>\n",
       "      <td>5.2</td>\n",
       "      <td>2.0</td>\n",
       "      <td>2</td>\n",
       "    </tr>\n",
       "    <tr>\n",
       "      <th>148</th>\n",
       "      <td>6.2</td>\n",
       "      <td>3.4</td>\n",
       "      <td>5.4</td>\n",
       "      <td>2.3</td>\n",
       "      <td>2</td>\n",
       "    </tr>\n",
       "    <tr>\n",
       "      <th>149</th>\n",
       "      <td>5.9</td>\n",
       "      <td>3.0</td>\n",
       "      <td>5.1</td>\n",
       "      <td>1.8</td>\n",
       "      <td>2</td>\n",
       "    </tr>\n",
       "  </tbody>\n",
       "</table>\n",
       "<p>150 rows × 5 columns</p>\n",
       "</div>"
      ],
      "text/plain": [
       "     Sepal.Length  Sepal.Width  Petal.Length  Petal.Width  Species\n",
       "0             5.1          3.5           1.4          0.2        0\n",
       "1             4.9          3.0           1.4          0.2        0\n",
       "2             4.7          3.2           1.3          0.2        0\n",
       "3             4.6          3.1           1.5          0.2        0\n",
       "4             5.0          3.6           1.4          0.2        0\n",
       "..            ...          ...           ...          ...      ...\n",
       "145           6.7          3.0           5.2          2.3        2\n",
       "146           6.3          2.5           5.0          1.9        2\n",
       "147           6.5          3.0           5.2          2.0        2\n",
       "148           6.2          3.4           5.4          2.3        2\n",
       "149           5.9          3.0           5.1          1.8        2\n",
       "\n",
       "[150 rows x 5 columns]"
      ]
     },
     "execution_count": 9,
     "metadata": {},
     "output_type": "execute_result"
    }
   ],
   "source": [
    "\n",
    "df"
   ]
  },
  {
   "cell_type": "code",
   "execution_count": 10,
   "id": "1cf8b28c",
   "metadata": {},
   "outputs": [],
   "source": [
    "x=df.iloc[:,0:4]\n",
    "y=df['Species']"
   ]
  },
  {
   "cell_type": "code",
   "execution_count": 11,
   "id": "18e331ee",
   "metadata": {},
   "outputs": [],
   "source": [
    "x_train,x_test,y_train,y_test=train_test_split(x,y,test_size=0.2)"
   ]
  },
  {
   "cell_type": "code",
   "execution_count": 55,
   "id": "5938ffdd",
   "metadata": {},
   "outputs": [
    {
     "data": {
      "text/plain": [
       "DecisionTreeClassifier(criterion='entropy', max_depth=4)"
      ]
     },
     "execution_count": 55,
     "metadata": {},
     "output_type": "execute_result"
    }
   ],
   "source": [
    "model=DecisionTreeClassifier(criterion='entropy',max_depth=4)\n",
    "model.fit(x_train,y_train)"
   ]
  },
  {
   "cell_type": "markdown",
   "id": "1f97793f",
   "metadata": {},
   "source": []
  },
  {
   "cell_type": "code",
   "execution_count": 56,
   "id": "fb3a2ab9",
   "metadata": {},
   "outputs": [
    {
     "data": {
      "image/png": "[encoded data removed]",
      "text/plain": [
       "<Figure size 432x288 with 1 Axes>"
      ]
     },
     "metadata": {
      "needs_background": "light"
     },
     "output_type": "display_data"
    }
   ],
   "source": [
    "tree.plot_tree(model);"
   ]
  },
  {
   "cell_type": "code",
   "execution_count": 57,
   "id": "13f1c6e5",
   "metadata": {},
   "outputs": [],
   "source": [
    "pred=model.predict(x_test)\n"
   ]
  },
  {
   "cell_type": "code",
   "execution_count": 58,
   "id": "91f12946",
   "metadata": {},
   "outputs": [
    {
     "data": {
      "text/html": [
       "<div>\n",
       "<style scoped>\n",
       "    .dataframe tbody tr th:only-of-type {\n",
       "        vertical-align: middle;\n",
       "    }\n",
       "\n",
       "    .dataframe tbody tr th {\n",
       "        vertical-align: top;\n",
       "    }\n",
       "\n",
       "    .dataframe thead th {\n",
       "        text-align: right;\n",
       "    }\n",
       "</style>\n",
       "<table border=\"1\" class=\"dataframe\">\n",
       "  <thead>\n",
       "    <tr style=\"text-align: right;\">\n",
       "      <th>col_0</th>\n",
       "      <th>0</th>\n",
       "      <th>1</th>\n",
       "      <th>2</th>\n",
       "    </tr>\n",
       "    <tr>\n",
       "      <th>Species</th>\n",
       "      <th></th>\n",
       "      <th></th>\n",
       "      <th></th>\n",
       "    </tr>\n",
       "  </thead>\n",
       "  <tbody>\n",
       "    <tr>\n",
       "      <th>0</th>\n",
       "      <td>8</td>\n",
       "      <td>0</td>\n",
       "      <td>0</td>\n",
       "    </tr>\n",
       "    <tr>\n",
       "      <th>1</th>\n",
       "      <td>0</td>\n",
       "      <td>12</td>\n",
       "      <td>0</td>\n",
       "    </tr>\n",
       "    <tr>\n",
       "      <th>2</th>\n",
       "      <td>0</td>\n",
       "      <td>0</td>\n",
       "      <td>10</td>\n",
       "    </tr>\n",
       "  </tbody>\n",
       "</table>\n",
       "</div>"
      ],
      "text/plain": [
       "col_0    0   1   2\n",
       "Species           \n",
       "0        8   0   0\n",
       "1        0  12   0\n",
       "2        0   0  10"
      ]
     },
     "execution_count": 58,
     "metadata": {},
     "output_type": "execute_result"
    }
   ],
   "source": [
    "pd.crosstab(y_test,pred)"
   ]
  },
  {
   "cell_type": "code",
   "execution_count": 59,
   "id": "adb7e44c",
   "metadata": {},
   "outputs": [
    {
     "data": {
      "text/plain": [
       "1.0"
      ]
     },
     "execution_count": 59,
     "metadata": {},
     "output_type": "execute_result"
    }
   ],
   "source": [
    "np.mean(pred==y_test)"
   ]
  },
  {
   "cell_type": "code",
   "execution_count": 61,
   "id": "2c782ca5",
   "metadata": {},
   "outputs": [],
   "source": [
    "from sklearn.tree import DecisionTreeRegressor"
   ]
  },
  {
   "cell_type": "code",
   "execution_count": 67,
   "id": "053e1728",
   "metadata": {},
   "outputs": [],
   "source": [
    "v=df.values\n"
   ]
  },
  {
   "cell_type": "code",
   "execution_count": 69,
   "id": "858919f1",
   "metadata": {},
   "outputs": [],
   "source": [
    "x=v[:,0:3]\n",
    "y=v[:,:]"
   ]
  },
  {
   "cell_type": "code",
   "execution_count": 71,
   "id": "6798f5c1",
   "metadata": {},
   "outputs": [],
   "source": [
    "x_train,x_test,y_train,y_test=train_test_split(x,y,test_size=0.2,random_state=20)"
   ]
  },
  {
   "cell_type": "code",
   "execution_count": 72,
   "id": "d0c70783",
   "metadata": {},
   "outputs": [],
   "source": [
    "model=DecisionTreeRegressor()"
   ]
  },
  {
   "cell_type": "code",
   "execution_count": 73,
   "id": "c998928a",
   "metadata": {},
   "outputs": [
    {
     "data": {
      "text/plain": [
       "DecisionTreeRegressor()"
      ]
     },
     "execution_count": 73,
     "metadata": {},
     "output_type": "execute_result"
    }
   ],
   "source": [
    "model.fit(x_train,y_train)"
   ]
  },
  {
   "cell_type": "code",
   "execution_count": 74,
   "id": "56c1dccb",
   "metadata": {},
   "outputs": [
    {
     "data": {
      "text/plain": [
       "[Text(149.49562500000002, 207.55636363636364, 'X[2] <= 2.6\\nmse = 1.056\\nsamples = 120\\nvalue = [[5.828]\\n[3.1]\\n[3.713]\\n[1.198]\\n[0.975]]'),\n",
       " Text(64.125, 187.7890909090909, 'X[0] <= 5.05\\nmse = 0.063\\nsamples = 42\\nvalue = [[5.024]\\n[3.462]\\n[1.474]\\n[0.255]\\n[0.0]]'),\n",
       " Text(27.810000000000002, 168.0218181818182, 'X[1] <= 3.25\\nmse = 0.034\\nsamples = 23\\nvalue = [[4.774]\\n[3.226]\\n[1.448]\\n[0.235]\\n[0.0]]'),\n",
       " Text(11.34, 148.25454545454545, 'X[1] <= 2.6\\nmse = 0.022\\nsamples = 12\\nvalue = [[4.675]\\n[3.008]\\n[1.433]\\n[0.208]\\n[0.0]]'),\n",
       " Text(9.18, 128.48727272727274, 'mse = 0.0\\nsamples = 1\\nvalue = [[4.5]\\n[2.3]\\n[1.3]\\n[0.3]\\n[0.0]]'),\n",
       " Text(13.5, 128.48727272727274, 'X[0] <= 4.5\\nmse = 0.013\\nsamples = 11\\nvalue = [[4.691]\\n[3.073]\\n[1.445]\\n[0.2]\\n[0.0]]'),\n",
       " Text(6.48, 108.72, 'X[1] <= 3.1\\nmse = 0.004\\nsamples = 3\\nvalue = [[4.4]\\n[3.033]\\n[1.333]\\n[0.2]\\n[0.0]]'),\n",
       " Text(4.32, 88.95272727272729, 'X[1] <= 2.95\\nmse = 0.001\\nsamples = 2\\nvalue = [[4.4]\\n[2.95]\\n[1.35]\\n[0.2]\\n[0.0]]'),\n",
       " Text(2.16, 69.18545454545455, 'mse = 0.0\\nsamples = 1\\nvalue = [[4.4]\\n[2.9]\\n[1.4]\\n[0.2]\\n[0.0]]'),\n",
       " Text(6.48, 69.18545454545455, 'mse = -0.0\\nsamples = 1\\nvalue = [[4.4]\\n[3.0]\\n[1.3]\\n[0.2]\\n[0.0]]'),\n",
       " Text(8.64, 88.95272727272729, 'mse = -0.0\\nsamples = 1\\nvalue = [[4.4]\\n[3.2]\\n[1.3]\\n[0.2]\\n[0.0]]'),\n",
       " Text(20.520000000000003, 108.72, 'X[0] <= 4.75\\nmse = 0.007\\nsamples = 8\\nvalue = [[4.8]\\n[3.088]\\n[1.488]\\n[0.2]\\n[0.0]]'),\n",
       " Text(12.96, 88.95272727272729, 'X[2] <= 1.4\\nmse = 0.004\\nsamples = 3\\nvalue = [[4.667]\\n[3.167]\\n[1.467]\\n[0.2]\\n[0.0]]'),\n",
       " Text(10.8, 69.18545454545455, 'mse = -0.0\\nsamples = 1\\nvalue = [[4.7]\\n[3.2]\\n[1.3]\\n[0.2]\\n[0.0]]'),\n",
       " Text(15.120000000000001, 69.18545454545455, 'X[2] <= 1.55\\nmse = 0.002\\nsamples = 2\\nvalue = [[4.65]\\n[3.15]\\n[1.55]\\n[0.2]\\n[0.0]]'),\n",
       " Text(12.96, 49.418181818181836, 'mse = -0.0\\nsamples = 1\\nvalue = [[4.6]\\n[3.1]\\n[1.5]\\n[0.2]\\n[0.0]]'),\n",
       " Text(17.28, 49.418181818181836, 'mse = -0.0\\nsamples = 1\\nvalue = [[4.7]\\n[3.2]\\n[1.6]\\n[0.2]\\n[0.0]]'),\n",
       " Text(28.080000000000002, 88.95272727272729, 'X[2] <= 1.45\\nmse = 0.004\\nsamples = 5\\nvalue = [[4.88]\\n[3.04]\\n[1.5]\\n[0.2]\\n[0.0]]'),\n",
       " Text(23.76, 69.18545454545455, 'X[0] <= 4.85\\nmse = 0.001\\nsamples = 2\\nvalue = [[4.85]\\n[3.0]\\n[1.4]\\n[0.25]\\n[0.0]]'),\n",
       " Text(21.6, 49.418181818181836, 'mse = 0.0\\nsamples = 1\\nvalue = [[4.8]\\n[3.0]\\n[1.4]\\n[0.3]\\n[0.0]]'),\n",
       " Text(25.92, 49.418181818181836, 'mse = 0.0\\nsamples = 1\\nvalue = [[4.9]\\n[3.0]\\n[1.4]\\n[0.2]\\n[0.0]]'),\n",
       " Text(32.400000000000006, 69.18545454545455, 'X[0] <= 4.95\\nmse = 0.003\\nsamples = 3\\nvalue = [[4.9]\\n[3.067]\\n[1.567]\\n[0.167]\\n[0.0]]'),\n",
       " Text(30.240000000000002, 49.418181818181836, 'X[0] <= 4.85\\nmse = 0.002\\nsamples = 2\\nvalue = [[4.85]\\n[3.1]\\n[1.55]\\n[0.15]\\n[0.0]]'),\n",
       " Text(28.080000000000002, 29.650909090909096, 'mse = -0.0\\nsamples = 1\\nvalue = [[4.8]\\n[3.1]\\n[1.6]\\n[0.2]\\n[0.0]]'),\n",
       " Text(32.400000000000006, 29.650909090909096, 'mse = 0.0\\nsamples = 1\\nvalue = [[4.9]\\n[3.1]\\n[1.5]\\n[0.1]\\n[0.0]]'),\n",
       " Text(34.56, 49.418181818181836, 'mse = 0.0\\nsamples = 1\\nvalue = [[5.0]\\n[3.0]\\n[1.6]\\n[0.2]\\n[0.0]]'),\n",
       " Text(44.28, 148.25454545454545, 'X[0] <= 4.7\\nmse = 0.019\\nsamples = 11\\nvalue = [[4.882]\\n[3.464]\\n[1.464]\\n[0.264]\\n[0.0]]'),\n",
       " Text(36.72, 128.48727272727274, 'X[1] <= 3.5\\nmse = 0.01\\nsamples = 2\\nvalue = [[4.6]\\n[3.5]\\n[1.2]\\n[0.25]\\n[0.0]]'),\n",
       " Text(34.56, 108.72, 'mse = 0.0\\nsamples = 1\\nvalue = [[4.6]\\n[3.4]\\n[1.4]\\n[0.3]\\n[0.0]]'),\n",
       " Text(38.88, 108.72, 'mse = -0.0\\nsamples = 1\\nvalue = [[4.6]\\n[3.6]\\n[1.0]\\n[0.2]\\n[0.0]]'),\n",
       " Text(51.84, 128.48727272727274, 'X[2] <= 1.55\\nmse = 0.013\\nsamples = 9\\nvalue = [[4.944]\\n[3.456]\\n[1.522]\\n[0.267]\\n[0.0]]'),\n",
       " Text(43.2, 108.72, 'X[1] <= 3.45\\nmse = 0.005\\nsamples = 5\\nvalue = [[4.98]\\n[3.48]\\n[1.4]\\n[0.2]\\n[0.0]]'),\n",
       " Text(38.88, 88.95272727272729, 'X[1] <= 3.35\\nmse = 0.001\\nsamples = 2\\nvalue = [[5.0]\\n[3.35]\\n[1.45]\\n[0.2]\\n[0.0]]'),\n",
       " Text(36.72, 69.18545454545455, 'mse = 0.0\\nsamples = 1\\nvalue = [[5.0]\\n[3.3]\\n[1.4]\\n[0.2]\\n[0.0]]'),\n",
       " Text(41.040000000000006, 69.18545454545455, 'mse = -0.0\\nsamples = 1\\nvalue = [[5.0]\\n[3.4]\\n[1.5]\\n[0.2]\\n[0.0]]'),\n",
       " Text(47.52, 88.95272727272729, 'X[2] <= 1.35\\nmse = 0.003\\nsamples = 3\\nvalue = [[4.967]\\n[3.567]\\n[1.367]\\n[0.2]\\n[0.0]]'),\n",
       " Text(45.36, 69.18545454545455, 'mse = 0.0\\nsamples = 1\\nvalue = [[5.0]\\n[3.5]\\n[1.3]\\n[0.3]\\n[0.0]]'),\n",
       " Text(49.68000000000001, 69.18545454545455, 'X[0] <= 4.95\\nmse = 0.001\\nsamples = 2\\nvalue = [[4.95]\\n[3.6]\\n[1.4]\\n[0.15]\\n[0.0]]'),\n",
       " Text(47.52, 49.418181818181836, 'mse = -0.0\\nsamples = 1\\nvalue = [[4.9]\\n[3.6]\\n[1.4]\\n[0.1]\\n[0.0]]'),\n",
       " Text(51.84, 49.418181818181836, 'mse = 0.0\\nsamples = 1\\nvalue = [[5.0]\\n[3.6]\\n[1.4]\\n[0.2]\\n[0.0]]'),\n",
       " Text(60.480000000000004, 108.72, 'X[0] <= 4.9\\nmse = 0.011\\nsamples = 4\\nvalue = [[4.9]\\n[3.425]\\n[1.675]\\n[0.35]\\n[0.0]]'),\n",
       " Text(56.160000000000004, 88.95272727272729, 'X[2] <= 1.75\\nmse = 0.005\\nsamples = 2\\nvalue = [[4.8]\\n[3.4]\\n[1.75]\\n[0.2]\\n[0.0]]'),\n",
       " Text(54.0, 69.18545454545455, 'mse = -0.0\\nsamples = 1\\nvalue = [[4.8]\\n[3.4]\\n[1.6]\\n[0.2]\\n[0.0]]'),\n",
       " Text(58.32000000000001, 69.18545454545455, 'mse = 0.0\\nsamples = 1\\nvalue = [[4.8]\\n[3.4]\\n[1.9]\\n[0.2]\\n[0.0]]'),\n",
       " Text(64.80000000000001, 88.95272727272729, 'X[1] <= 3.45\\nmse = 0.003\\nsamples = 2\\nvalue = [[5.0]\\n[3.45]\\n[1.6]\\n[0.5]\\n[0.0]]'),\n",
       " Text(62.64, 69.18545454545455, 'mse = 0.0\\nsamples = 1\\nvalue = [[5.0]\\n[3.4]\\n[1.6]\\n[0.4]\\n[0.0]]'),\n",
       " Text(66.96000000000001, 69.18545454545455, 'mse = -0.0\\nsamples = 1\\nvalue = [[5.0]\\n[3.5]\\n[1.6]\\n[0.6]\\n[0.0]]'),\n",
       " Text(100.44000000000001, 168.0218181818182, 'X[1] <= 3.85\\nmse = 0.034\\nsamples = 19\\nvalue = [[5.326]\\n[3.747]\\n[1.505]\\n[0.279]\\n[0.0]]'),\n",
       " Text(88.56, 148.25454545454545, 'X[1] <= 3.6\\nmse = 0.02\\nsamples = 13\\nvalue = [[5.246]\\n[3.592]\\n[1.538]\\n[0.277]\\n[0.0]]'),\n",
       " Text(79.92, 128.48727272727274, 'X[0] <= 5.3\\nmse = 0.011\\nsamples = 7\\nvalue = [[5.214]\\n[3.443]\\n[1.471]\\n[0.286]\\n[0.0]]'),\n",
       " Text(75.60000000000001, 108.72, 'X[2] <= 1.6\\nmse = 0.007\\nsamples = 5\\nvalue = [[5.12]\\n[3.44]\\n[1.5]\\n[0.28]\\n[0.0]]'),\n",
       " Text(73.44, 88.95272727272729, 'X[2] <= 1.45\\nmse = 0.002\\nsamples = 4\\nvalue = [[5.125]\\n[3.475]\\n[1.45]\\n[0.225]\\n[0.0]]'),\n",
       " Text(71.28, 69.18545454545455, 'mse = 0.0\\nsamples = 2\\nvalue = [[5.1]\\n[3.5]\\n[1.4]\\n[0.25]\\n[0.0]]'),\n",
       " Text(75.60000000000001, 69.18545454545455, 'X[1] <= 3.45\\nmse = 0.001\\nsamples = 2\\nvalue = [[5.15]\\n[3.45]\\n[1.5]\\n[0.2]\\n[0.0]]'),\n",
       " Text(73.44, 49.418181818181836, 'mse = -0.0\\nsamples = 1\\nvalue = [[5.1]\\n[3.4]\\n[1.5]\\n[0.2]\\n[0.0]]'),\n",
       " Text(77.76, 49.418181818181836, 'mse = 0.0\\nsamples = 1\\nvalue = [[5.2]\\n[3.5]\\n[1.5]\\n[0.2]\\n[0.0]]'),\n",
       " Text(77.76, 88.95272727272729, 'mse = -0.0\\nsamples = 1\\nvalue = [[5.1]\\n[3.3]\\n[1.7]\\n[0.5]\\n[0.0]]'),\n",
       " Text(84.24000000000001, 108.72, 'X[2] <= 1.4\\nmse = 0.005\\nsamples = 2\\nvalue = [[5.45]\\n[3.45]\\n[1.4]\\n[0.3]\\n[0.0]]'),\n",
       " Text(82.08000000000001, 88.95272727272729, 'mse = -0.0\\nsamples = 1\\nvalue = [[5.5]\\n[3.5]\\n[1.3]\\n[0.2]\\n[0.0]]'),\n",
       " Text(86.4, 88.95272727272729, 'mse = -0.0\\nsamples = 1\\nvalue = [[5.4]\\n[3.4]\\n[1.5]\\n[0.4]\\n[0.0]]'),\n",
       " Text(97.2, 128.48727272727274, 'X[0] <= 5.2\\nmse = 0.015\\nsamples = 6\\nvalue = [[5.283]\\n[3.767]\\n[1.617]\\n[0.267]\\n[0.0]]'),\n",
       " Text(92.88000000000001, 108.72, 'X[2] <= 1.75\\nmse = 0.007\\nsamples = 3\\nvalue = [[5.1]\\n[3.8]\\n[1.667]\\n[0.3]\\n[0.0]]'),\n",
       " Text(90.72, 88.95272727272729, 'X[2] <= 1.55\\nmse = 0.001\\nsamples = 2\\nvalue = [[5.1]\\n[3.8]\\n[1.55]\\n[0.25]\\n[0.0]]'),\n",
       " Text(88.56, 69.18545454545455, 'mse = 0.0\\nsamples = 1\\nvalue = [[5.1]\\n[3.8]\\n[1.5]\\n[0.3]\\n[0.0]]'),\n",
       " Text(92.88000000000001, 69.18545454545455, 'mse = 0.0\\nsamples = 1\\nvalue = [[5.1]\\n[3.8]\\n[1.6]\\n[0.2]\\n[0.0]]'),\n",
       " Text(95.04, 88.95272727272729, 'mse = 0.0\\nsamples = 1\\nvalue = [[5.1]\\n[3.8]\\n[1.9]\\n[0.4]\\n[0.0]]'),\n",
       " Text(101.52000000000001, 108.72, 'X[2] <= 1.6\\nmse = 0.008\\nsamples = 3\\nvalue = [[5.467]\\n[3.733]\\n[1.567]\\n[0.233]\\n[0.0]]'),\n",
       " Text(99.36000000000001, 88.95272727272729, 'X[0] <= 5.35\\nmse = 0.0\\nsamples = 2\\nvalue = [[5.35]\\n[3.7]\\n[1.5]\\n[0.2]\\n[0.0]]'),\n",
       " Text(97.2, 69.18545454545455, 'mse = -0.0\\nsamples = 1\\nvalue = [[5.3]\\n[3.7]\\n[1.5]\\n[0.2]\\n[0.0]]'),\n",
       " Text(101.52000000000001, 69.18545454545455, 'mse = 0.0\\nsamples = 1\\nvalue = [[5.4]\\n[3.7]\\n[1.5]\\n[0.2]\\n[0.0]]'),\n",
       " Text(103.68, 88.95272727272729, 'mse = 0.0\\nsamples = 1\\nvalue = [[5.7]\\n[3.8]\\n[1.7]\\n[0.3]\\n[0.0]]'),\n",
       " Text(112.32000000000001, 148.25454545454545, 'X[0] <= 5.45\\nmse = 0.022\\nsamples = 6\\nvalue = [[5.5]\\n[4.083]\\n[1.433]\\n[0.283]\\n[0.0]]'),\n",
       " Text(108.0, 128.48727272727274, 'X[0] <= 5.3\\nmse = 0.013\\nsamples = 3\\nvalue = [[5.333]\\n[3.967]\\n[1.5]\\n[0.3]\\n[0.0]]'),\n",
       " Text(105.84, 108.72, 'mse = -0.0\\nsamples = 1\\nvalue = [[5.2]\\n[4.1]\\n[1.5]\\n[0.1]\\n[0.0]]'),\n",
       " Text(110.16000000000001, 108.72, 'X[2] <= 1.5\\nmse = 0.008\\nsamples = 2\\nvalue = [[5.4]\\n[3.9]\\n[1.5]\\n[0.4]\\n[0.0]]'),\n",
       " Text(108.0, 88.95272727272729, 'mse = -0.0\\nsamples = 1\\nvalue = [[5.4]\\n[3.9]\\n[1.3]\\n[0.4]\\n[0.0]]'),\n",
       " Text(112.32000000000001, 88.95272727272729, 'mse = -0.0\\nsamples = 1\\nvalue = [[5.4]\\n[3.9]\\n[1.7]\\n[0.4]\\n[0.0]]'),\n",
       " Text(116.64000000000001, 128.48727272727274, 'X[1] <= 4.1\\nmse = 0.013\\nsamples = 3\\nvalue = [[5.667]\\n[4.2]\\n[1.367]\\n[0.267]\\n[0.0]]'),\n",
       " Text(114.48, 108.72, 'mse = -0.0\\nsamples = 1\\nvalue = [[5.8]\\n[4.0]\\n[1.2]\\n[0.2]\\n[0.0]]'),\n",
       " Text(118.80000000000001, 108.72, 'X[2] <= 1.45\\nmse = 0.006\\nsamples = 2\\nvalue = [[5.6]\\n[4.3]\\n[1.45]\\n[0.3]\\n[0.0]]'),\n",
       " Text(116.64000000000001, 88.95272727272729, 'mse = 0.0\\nsamples = 1\\nvalue = [[5.5]\\n[4.2]\\n[1.4]\\n[0.2]\\n[0.0]]'),\n",
       " Text(120.96000000000001, 88.95272727272729, 'mse = 0.0\\nsamples = 1\\nvalue = [[5.7]\\n[4.4]\\n[1.5]\\n[0.4]\\n[0.0]]'),\n",
       " Text(234.86625, 187.7890909090909, 'X[2] <= 4.85\\nmse = 0.326\\nsamples = 78\\nvalue = [[6.262]\\n[2.905]\\n[4.919]\\n[1.706]\\n[1.5]]'),\n",
       " Text(179.01000000000002, 168.0218181818182, 'X[0] <= 5.85\\nmse = 0.112\\nsamples = 39\\nvalue = [[5.854]\\n[2.779]\\n[4.256]\\n[1.367]\\n[1.077]]'),\n",
       " Text(149.58, 148.25454545454545, 'X[2] <= 4.05\\nmse = 0.069\\nsamples = 20\\nvalue = [[5.505]\\n[2.665]\\n[4.03]\\n[1.26]\\n[1.05]]'),\n",
       " Text(132.84, 128.48727272727274, 'X[0] <= 5.1\\nmse = 0.043\\nsamples = 10\\nvalue = [[5.47]\\n[2.5]\\n[3.74]\\n[1.16]\\n[1.0]]'),\n",
       " Text(127.44000000000001, 108.72, 'X[2] <= 3.4\\nmse = 0.006\\nsamples = 2\\nvalue = [[5.0]\\n[2.15]\\n[3.4]\\n[1.0]\\n[1.0]]'),\n",
       " Text(125.28, 88.95272727272729, 'mse = 0.0\\nsamples = 1\\nvalue = [[5.0]\\n[2.3]\\n[3.3]\\n[1.0]\\n[1.0]]'),\n",
       " Text(129.60000000000002, 88.95272727272729, 'mse = -0.0\\nsamples = 1\\nvalue = [[5.0]\\n[2.0]\\n[3.5]\\n[1.0]\\n[1.0]]'),\n",
       " Text(138.24, 108.72, 'X[2] <= 3.7\\nmse = 0.022\\nsamples = 8\\nvalue = [[5.588]\\n[2.588]\\n[3.825]\\n[1.2]\\n[1.0]]'),\n",
       " Text(133.92000000000002, 88.95272727272729, 'X[2] <= 3.55\\nmse = 0.01\\nsamples = 2\\nvalue = [[5.65]\\n[2.75]\\n[3.55]\\n[1.15]\\n[1.0]]'),\n",
       " Text(131.76000000000002, 69.18545454545455, 'mse = -0.0\\nsamples = 1\\nvalue = [[5.7]\\n[2.6]\\n[3.5]\\n[1.0]\\n[1.0]]'),\n",
       " Text(136.08, 69.18545454545455, 'mse = -0.0\\nsamples = 1\\nvalue = [[5.6]\\n[2.9]\\n[3.6]\\n[1.3]\\n[1.0]]'),\n",
       " Text(142.56, 88.95272727272729, 'X[0] <= 5.35\\nmse = 0.016\\nsamples = 6\\nvalue = [[5.567]\\n[2.533]\\n[3.917]\\n[1.217]\\n[1.0]]'),\n",
       " Text(140.4, 69.18545454545455, 'mse = 0.0\\nsamples = 1\\nvalue = [[5.2]\\n[2.7]\\n[3.9]\\n[1.4]\\n[1.0]]'),\n",
       " Text(144.72, 69.18545454545455, 'X[0] <= 5.7\\nmse = 0.01\\nsamples = 5\\nvalue = [[5.64]\\n[2.5]\\n[3.92]\\n[1.18]\\n[1.0]]'),\n",
       " Text(140.4, 49.418181818181836, 'X[1] <= 2.35\\nmse = 0.005\\nsamples = 3\\nvalue = [[5.533]\\n[2.4]\\n[3.9]\\n[1.167]\\n[1.0]]'),\n",
       " Text(138.24, 29.650909090909096, 'mse = -0.0\\nsamples = 1\\nvalue = [[5.5]\\n[2.3]\\n[4.0]\\n[1.3]\\n[1.0]]'),\n",
       " Text(142.56, 29.650909090909096, 'X[2] <= 3.85\\nmse = 0.001\\nsamples = 2\\nvalue = [[5.55]\\n[2.45]\\n[3.85]\\n[1.1]\\n[1.0]]'),\n",
       " Text(140.4, 9.883636363636384, 'mse = -0.0\\nsamples = 1\\nvalue = [[5.5]\\n[2.4]\\n[3.8]\\n[1.1]\\n[1.0]]'),\n",
       " Text(144.72, 9.883636363636384, 'mse = 0.0\\nsamples = 1\\nvalue = [[5.6]\\n[2.5]\\n[3.9]\\n[1.1]\\n[1.0]]'),\n",
       " Text(149.04000000000002, 49.418181818181836, 'X[1] <= 2.65\\nmse = 0.001\\nsamples = 2\\nvalue = [[5.8]\\n[2.65]\\n[3.95]\\n[1.2]\\n[1.0]]'),\n",
       " Text(146.88, 29.650909090909096, 'mse = -0.0\\nsamples = 1\\nvalue = [[5.8]\\n[2.6]\\n[4.0]\\n[1.2]\\n[1.0]]'),\n",
       " Text(151.20000000000002, 29.650909090909096, 'mse = -0.0\\nsamples = 1\\nvalue = [[5.8]\\n[2.7]\\n[3.9]\\n[1.2]\\n[1.0]]'),\n",
       " Text(166.32000000000002, 128.48727272727274, 'X[0] <= 5.15\\nmse = 0.045\\nsamples = 10\\nvalue = [[5.54]\\n[2.83]\\n[4.32]\\n[1.36]\\n[1.1]]'),\n",
       " Text(164.16000000000003, 108.72, 'mse = 0.0\\nsamples = 1\\nvalue = [[4.9]\\n[2.5]\\n[4.5]\\n[1.7]\\n[2.0]]'),\n",
       " Text(168.48000000000002, 108.72, 'X[2] <= 4.3\\nmse = 0.013\\nsamples = 9\\nvalue = [[5.611]\\n[2.867]\\n[4.3]\\n[1.322]\\n[1.0]]'),\n",
       " Text(159.84, 88.95272727272729, 'X[1] <= 2.85\\nmse = 0.004\\nsamples = 5\\nvalue = [[5.66]\\n[2.88]\\n[4.16]\\n[1.28]\\n[1.0]]'),\n",
       " Text(155.52, 69.18545454545455, 'X[0] <= 5.65\\nmse = 0.001\\nsamples = 2\\nvalue = [[5.65]\\n[2.75]\\n[4.15]\\n[1.3]\\n[1.0]]'),\n",
       " Text(153.36, 49.418181818181836, 'mse = -0.0\\nsamples = 1\\nvalue = [[5.6]\\n[2.7]\\n[4.2]\\n[1.3]\\n[1.0]]'),\n",
       " Text(157.68, 49.418181818181836, 'mse = -0.0\\nsamples = 1\\nvalue = [[5.7]\\n[2.8]\\n[4.1]\\n[1.3]\\n[1.0]]'),\n",
       " Text(164.16000000000003, 69.18545454545455, 'X[2] <= 4.15\\nmse = 0.002\\nsamples = 3\\nvalue = [[5.667]\\n[2.967]\\n[4.167]\\n[1.267]\\n[1.0]]'),\n",
       " Text(162.0, 49.418181818181836, 'mse = 0.0\\nsamples = 1\\nvalue = [[5.6]\\n[3.0]\\n[4.1]\\n[1.3]\\n[1.0]]'),\n",
       " Text(166.32000000000002, 49.418181818181836, 'X[1] <= 2.95\\nmse = 0.001\\nsamples = 2\\nvalue = [[5.7]\\n[2.95]\\n[4.2]\\n[1.25]\\n[1.0]]'),\n",
       " Text(164.16000000000003, 29.650909090909096, 'mse = 0.0\\nsamples = 1\\nvalue = [[5.7]\\n[2.9]\\n[4.2]\\n[1.3]\\n[1.0]]'),\n",
       " Text(168.48000000000002, 29.650909090909096, 'mse = -0.0\\nsamples = 1\\nvalue = [[5.7]\\n[3.0]\\n[4.2]\\n[1.2]\\n[1.0]]'),\n",
       " Text(177.12, 88.95272727272729, 'X[1] <= 2.9\\nmse = 0.012\\nsamples = 4\\nvalue = [[5.55]\\n[2.85]\\n[4.475]\\n[1.375]\\n[1.0]]'),\n",
       " Text(172.8, 69.18545454545455, 'X[1] <= 2.7\\nmse = 0.005\\nsamples = 2\\nvalue = [[5.6]\\n[2.7]\\n[4.45]\\n[1.25]\\n[1.0]]'),\n",
       " Text(170.64000000000001, 49.418181818181836, 'mse = -0.0\\nsamples = 1\\nvalue = [[5.5]\\n[2.6]\\n[4.4]\\n[1.2]\\n[1.0]]'),\n",
       " Text(174.96, 49.418181818181836, 'mse = -0.0\\nsamples = 1\\nvalue = [[5.7]\\n[2.8]\\n[4.5]\\n[1.3]\\n[1.0]]'),\n",
       " Text(181.44, 69.18545454545455, 'X[0] <= 5.5\\nmse = 0.002\\nsamples = 2\\nvalue = [[5.5]\\n[3.0]\\n[4.5]\\n[1.5]\\n[1.0]]'),\n",
       " Text(179.28, 49.418181818181836, 'mse = 0.0\\nsamples = 1\\nvalue = [[5.4]\\n[3.0]\\n[4.5]\\n[1.5]\\n[1.0]]'),\n",
       " Text(183.60000000000002, 49.418181818181836, 'mse = 0.0\\nsamples = 1\\nvalue = [[5.6]\\n[3.0]\\n[4.5]\\n[1.5]\\n[1.0]]'),\n",
       " Text(208.44000000000003, 148.25454545454545, 'X[2] <= 4.75\\nmse = 0.072\\nsamples = 19\\nvalue = [[6.221]\\n[2.9]\\n[4.495]\\n[1.479]\\n[1.105]]'),\n",
       " Text(196.56, 128.48727272727274, 'X[1] <= 2.55\\nmse = 0.05\\nsamples = 16\\nvalue = [[6.256]\\n[2.881]\\n[4.438]\\n[1.419]\\n[1.0]]'),\n",
       " Text(185.76000000000002, 108.72, 'X[0] <= 6.1\\nmse = 0.021\\nsamples = 3\\nvalue = [[6.167]\\n[2.233]\\n[4.3]\\n[1.267]\\n[1.0]]'),\n",
       " Text(183.60000000000002, 88.95272727272729, 'mse = 0.0\\nsamples = 1\\nvalue = [[6.0]\\n[2.2]\\n[4.0]\\n[1.0]\\n[1.0]]'),\n",
       " Text(187.92000000000002, 88.95272727272729, 'X[1] <= 2.25\\nmse = 0.003\\nsamples = 2\\nvalue = [[6.25]\\n[2.25]\\n[4.45]\\n[1.4]\\n[1.0]]'),\n",
       " Text(185.76000000000002, 69.18545454545455, 'mse = -0.0\\nsamples = 1\\nvalue = [[6.2]\\n[2.2]\\n[4.5]\\n[1.5]\\n[1.0]]'),\n",
       " Text(190.08, 69.18545454545455, 'mse = 0.0\\nsamples = 1\\nvalue = [[6.3]\\n[2.3]\\n[4.4]\\n[1.3]\\n[1.0]]'),\n",
       " Text(207.36, 108.72, 'X[0] <= 6.25\\nmse = 0.03\\nsamples = 13\\nvalue = [[6.277]\\n[3.031]\\n[4.469]\\n[1.454]\\n[1.0]]'),\n",
       " Text(198.72000000000003, 88.95272727272729, 'X[2] <= 4.4\\nmse = 0.021\\nsamples = 7\\nvalue = [[6.057]\\n[2.986]\\n[4.4]\\n[1.429]\\n[1.0]]'),\n",
       " Text(194.4, 69.18545454545455, 'X[1] <= 2.95\\nmse = 0.009\\nsamples = 3\\nvalue = [[6.067]\\n[2.9]\\n[4.167]\\n[1.367]\\n[1.0]]'),\n",
       " Text(192.24, 49.418181818181836, 'X[1] <= 2.85\\nmse = 0.005\\nsamples = 2\\nvalue = [[6.15]\\n[2.85]\\n[4.15]\\n[1.3]\\n[1.0]]'),\n",
       " Text(190.08, 29.650909090909096, 'mse = -0.0\\nsamples = 1\\nvalue = [[6.1]\\n[2.8]\\n[4.0]\\n[1.3]\\n[1.0]]'),\n",
       " Text(194.4, 29.650909090909096, 'mse = -0.0\\nsamples = 1\\nvalue = [[6.2]\\n[2.9]\\n[4.3]\\n[1.3]\\n[1.0]]'),\n",
       " Text(196.56, 49.418181818181836, 'mse = 0.0\\nsamples = 1\\nvalue = [[5.9]\\n[3.0]\\n[4.2]\\n[1.5]\\n[1.0]]'),\n",
       " Text(203.04000000000002, 69.18545454545455, 'X[1] <= 3.2\\nmse = 0.012\\nsamples = 4\\nvalue = [[6.05]\\n[3.05]\\n[4.575]\\n[1.475]\\n[1.0]]'),\n",
       " Text(200.88000000000002, 49.418181818181836, 'X[0] <= 6.05\\nmse = 0.003\\nsamples = 3\\nvalue = [[6.067]\\n[2.933]\\n[4.6]\\n[1.433]\\n[1.0]]'),\n",
       " Text(198.72000000000003, 29.650909090909096, 'mse = -0.0\\nsamples = 1\\nvalue = [[6.0]\\n[2.9]\\n[4.5]\\n[1.5]\\n[1.0]]'),\n",
       " Text(203.04000000000002, 29.650909090909096, 'X[2] <= 4.65\\nmse = 0.001\\nsamples = 2\\nvalue = [[6.1]\\n[2.95]\\n[4.65]\\n[1.4]\\n[1.0]]'),\n",
       " Text(200.88000000000002, 9.883636363636384, 'mse = -0.0\\nsamples = 1\\nvalue = [[6.1]\\n[3.0]\\n[4.6]\\n[1.4]\\n[1.0]]'),\n",
       " Text(205.20000000000002, 9.883636363636384, 'mse = -0.0\\nsamples = 1\\nvalue = [[6.1]\\n[2.9]\\n[4.7]\\n[1.4]\\n[1.0]]'),\n",
       " Text(205.20000000000002, 49.418181818181836, 'mse = 0.0\\nsamples = 1\\nvalue = [[6.0]\\n[3.4]\\n[4.5]\\n[1.6]\\n[1.0]]'),\n",
       " Text(216.0, 88.95272727272729, 'X[0] <= 6.45\\nmse = 0.014\\nsamples = 6\\nvalue = [[6.533]\\n[3.083]\\n[4.55]\\n[1.483]\\n[1.0]]'),\n",
       " Text(211.68, 69.18545454545455, 'X[2] <= 4.6\\nmse = 0.004\\nsamples = 2\\nvalue = [[6.35]\\n[3.25]\\n[4.6]\\n[1.55]\\n[1.0]]'),\n",
       " Text(209.52, 49.418181818181836, 'mse = 0.0\\nsamples = 1\\nvalue = [[6.4]\\n[3.2]\\n[4.5]\\n[1.5]\\n[1.0]]'),\n",
       " Text(213.84, 49.418181818181836, 'mse = 0.0\\nsamples = 1\\nvalue = [[6.3]\\n[3.3]\\n[4.7]\\n[1.6]\\n[1.0]]'),\n",
       " Text(220.32000000000002, 69.18545454545455, 'X[1] <= 2.9\\nmse = 0.008\\nsamples = 4\\nvalue = [[6.625]\\n[3.0]\\n[4.525]\\n[1.45]\\n[1.0]]'),\n",
       " Text(218.16000000000003, 49.418181818181836, 'mse = 0.0\\nsamples = 1\\nvalue = [[6.5]\\n[2.8]\\n[4.6]\\n[1.5]\\n[1.0]]'),\n",
       " Text(222.48000000000002, 49.418181818181836, 'X[2] <= 4.55\\nmse = 0.005\\nsamples = 3\\nvalue = [[6.667]\\n[3.067]\\n[4.5]\\n[1.433]\\n[1.0]]'),\n",
       " Text(220.32000000000002, 29.650909090909096, 'X[0] <= 6.65\\nmse = 0.001\\nsamples = 2\\nvalue = [[6.65]\\n[3.05]\\n[4.4]\\n[1.4]\\n[1.0]]'),\n",
       " Text(218.16000000000003, 9.883636363636384, 'mse = -0.0\\nsamples = 1\\nvalue = [[6.6]\\n[3.0]\\n[4.4]\\n[1.4]\\n[1.0]]'),\n",
       " Text(222.48000000000002, 9.883636363636384, 'mse = 0.0\\nsamples = 1\\nvalue = [[6.7]\\n[3.1]\\n[4.4]\\n[1.4]\\n[1.0]]'),\n",
       " Text(224.64000000000001, 29.650909090909096, 'mse = 0.0\\nsamples = 1\\nvalue = [[6.7]\\n[3.1]\\n[4.7]\\n[1.5]\\n[1.0]]'),\n",
       " Text(220.32000000000002, 128.48727272727274, 'X[0] <= 5.95\\nmse = 0.053\\nsamples = 3\\nvalue = [[6.033]\\n[3.0]\\n[4.8]\\n[1.8]\\n[1.667]]'),\n",
       " Text(218.16000000000003, 108.72, 'mse = -0.0\\nsamples = 1\\nvalue = [[5.9]\\n[3.2]\\n[4.8]\\n[1.8]\\n[1.0]]'),\n",
       " Text(222.48000000000002, 108.72, 'X[1] <= 2.9\\nmse = 0.004\\nsamples = 2\\nvalue = [[6.1]\\n[2.9]\\n[4.8]\\n[1.8]\\n[2.0]]'),\n",
       " Text(220.32000000000002, 88.95272727272729, 'mse = -0.0\\nsamples = 1\\nvalue = [[6.2]\\n[2.8]\\n[4.8]\\n[1.8]\\n[2.0]]'),\n",
       " Text(224.64000000000001, 88.95272727272729, 'mse = 0.0\\nsamples = 1\\nvalue = [[6.0]\\n[3.0]\\n[4.8]\\n[1.8]\\n[2.0]]'),\n",
       " Text(290.7225, 168.0218181818182, 'X[0] <= 7.0\\nmse = 0.173\\nsamples = 39\\nvalue = [[6.669]\\n[3.031]\\n[5.582]\\n[2.046]\\n[1.923]]'),\n",
       " Text(258.52500000000003, 148.25454545454545, 'X[2] <= 5.15\\nmse = 0.094\\nsamples = 29\\nvalue = [[6.39]\\n[2.983]\\n[5.331]\\n[2.028]\\n[1.897]]'),\n",
       " Text(244.08, 128.48727272727274, 'X[0] <= 6.4\\nmse = 0.096\\nsamples = 12\\nvalue = [[6.217]\\n[2.833]\\n[5.008]\\n[1.867]\\n[1.75]]'),\n",
       " Text(235.44000000000003, 108.72, 'X[0] <= 5.9\\nmse = 0.043\\nsamples = 8\\nvalue = [[5.95]\\n[2.7]\\n[5.0]\\n[1.862]\\n[1.875]]'),\n",
       " Text(231.12, 88.95272727272729, 'X[1] <= 2.75\\nmse = 0.006\\nsamples = 4\\nvalue = [[5.725]\\n[2.675]\\n[5.025]\\n[1.95]\\n[2.0]]'),\n",
       " Text(228.96, 69.18545454545455, 'X[2] <= 5.05\\nmse = 0.003\\nsamples = 3\\nvalue = [[5.767]\\n[2.633]\\n[5.067]\\n[1.933]\\n[2.0]]'),\n",
       " Text(226.8, 49.418181818181836, 'mse = 0.0\\nsamples = 1\\nvalue = [[5.7]\\n[2.5]\\n[5.0]\\n[2.0]\\n[2.0]]'),\n",
       " Text(231.12, 49.418181818181836, 'mse = -0.0\\nsamples = 2\\nvalue = [[5.8]\\n[2.7]\\n[5.1]\\n[1.9]\\n[2.0]]'),\n",
       " Text(233.28000000000003, 69.18545454545455, 'mse = -0.0\\nsamples = 1\\nvalue = [[5.6]\\n[2.8]\\n[4.9]\\n[2.0]\\n[2.0]]'),\n",
       " Text(239.76000000000002, 88.95272727272729, 'X[2] <= 5.05\\nmse = 0.051\\nsamples = 4\\nvalue = [[6.175]\\n[2.725]\\n[4.975]\\n[1.775]\\n[1.75]]'),\n",
       " Text(237.60000000000002, 69.18545454545455, 'X[1] <= 2.85\\nmse = 0.011\\nsamples = 3\\nvalue = [[6.233]\\n[2.733]\\n[4.933]\\n[1.833]\\n[2.0]]'),\n",
       " Text(235.44000000000003, 49.418181818181836, 'X[1] <= 2.6\\nmse = 0.003\\nsamples = 2\\nvalue = [[6.3]\\n[2.6]\\n[4.95]\\n[1.85]\\n[2.0]]'),\n",
       " Text(233.28000000000003, 29.650909090909096, 'mse = -0.0\\nsamples = 1\\nvalue = [[6.3]\\n[2.5]\\n[5.0]\\n[1.9]\\n[2.0]]'),\n",
       " Text(237.60000000000002, 29.650909090909096, 'mse = 0.0\\nsamples = 1\\nvalue = [[6.3]\\n[2.7]\\n[4.9]\\n[1.8]\\n[2.0]]'),\n",
       " Text(239.76000000000002, 49.418181818181836, 'mse = -0.0\\nsamples = 1\\nvalue = [[6.1]\\n[3.0]\\n[4.9]\\n[1.8]\\n[2.0]]'),\n",
       " Text(241.92000000000002, 69.18545454545455, 'mse = 0.0\\nsamples = 1\\nvalue = [[6.0]\\n[2.7]\\n[5.1]\\n[1.6]\\n[1.0]]'),\n",
       " Text(252.72000000000003, 108.72, 'X[2] <= 5.05\\nmse = 0.076\\nsamples = 4\\nvalue = [[6.75]\\n[3.1]\\n[5.025]\\n[1.875]\\n[1.5]]'),\n",
       " Text(248.4, 88.95272727272729, 'X[2] <= 4.95\\nmse = 0.005\\nsamples = 2\\nvalue = [[6.8]\\n[3.05]\\n[4.95]\\n[1.6]\\n[1.0]]'),\n",
       " Text(246.24, 69.18545454545455, 'mse = 0.0\\nsamples = 1\\nvalue = [[6.9]\\n[3.1]\\n[4.9]\\n[1.5]\\n[1.0]]'),\n",
       " Text(250.56, 69.18545454545455, 'mse = -0.0\\nsamples = 1\\nvalue = [[6.7]\\n[3.0]\\n[5.0]\\n[1.7]\\n[1.0]]'),\n",
       " Text(257.04, 88.95272727272729, 'X[1] <= 3.15\\nmse = 0.013\\nsamples = 2\\nvalue = [[6.7]\\n[3.15]\\n[5.1]\\n[2.15]\\n[2.0]]'),\n",
       " Text(254.88000000000002, 69.18545454545455, 'mse = 0.0\\nsamples = 1\\nvalue = [[6.9]\\n[3.1]\\n[5.1]\\n[2.3]\\n[2.0]]'),\n",
       " Text(259.20000000000005, 69.18545454545455, 'mse = 0.0\\nsamples = 1\\nvalue = [[6.5]\\n[3.2]\\n[5.1]\\n[2.0]\\n[2.0]]'),\n",
       " Text(272.97, 128.48727272727274, 'X[1] <= 2.95\\nmse = 0.044\\nsamples = 17\\nvalue = [[6.512]\\n[3.088]\\n[5.559]\\n[2.141]\\n[2.0]]'),\n",
       " Text(263.52000000000004, 108.72, 'X[0] <= 6.2\\nmse = 0.025\\nsamples = 4\\nvalue = [[6.3]\\n[2.775]\\n[5.6]\\n[1.875]\\n[2.0]]'),\n",
       " Text(261.36, 88.95272727272729, 'mse = -0.0\\nsamples = 1\\nvalue = [[6.1]\\n[2.6]\\n[5.6]\\n[1.4]\\n[2.0]]'),\n",
       " Text(265.68, 88.95272727272729, 'X[1] <= 2.85\\nmse = 0.007\\nsamples = 3\\nvalue = [[6.367]\\n[2.833]\\n[5.6]\\n[2.033]\\n[2.0]]'),\n",
       " Text(263.52000000000004, 69.18545454545455, 'mse = 0.001\\nsamples = 2\\nvalue = [[6.4]\\n[2.8]\\n[5.6]\\n[2.15]\\n[2.0]]'),\n",
       " Text(267.84000000000003, 69.18545454545455, 'mse = -0.0\\nsamples = 1\\nvalue = [[6.3]\\n[2.9]\\n[5.6]\\n[1.8]\\n[2.0]]'),\n",
       " Text(282.42, 108.72, 'X[0] <= 6.35\\nmse = 0.032\\nsamples = 13\\nvalue = [[6.577]\\n[3.185]\\n[5.546]\\n[2.223]\\n[2.0]]'),\n",
       " Text(274.32, 88.95272727272729, 'X[1] <= 3.35\\nmse = 0.015\\nsamples = 3\\nvalue = [[6.267]\\n[3.367]\\n[5.667]\\n[2.4]\\n[2.0]]'),\n",
       " Text(272.16, 69.18545454545455, 'mse = 0.0\\nsamples = 1\\nvalue = [[6.3]\\n[3.3]\\n[6.0]\\n[2.5]\\n[2.0]]'),\n",
       " Text(276.48, 69.18545454545455, 'X[0] <= 6.25\\nmse = 0.003\\nsamples = 2\\nvalue = [[6.25]\\n[3.4]\\n[5.5]\\n[2.35]\\n[2.0]]'),\n",
       " Text(274.32, 49.418181818181836, 'mse = -0.0\\nsamples = 1\\nvalue = [[6.2]\\n[3.4]\\n[5.4]\\n[2.3]\\n[2.0]]'),\n",
       " Text(278.64000000000004, 49.418181818181836, 'mse = 0.0\\nsamples = 1\\nvalue = [[6.3]\\n[3.4]\\n[5.6]\\n[2.4]\\n[2.0]]'),\n",
       " Text(290.52000000000004, 88.95272727272729, 'X[0] <= 6.6\\nmse = 0.024\\nsamples = 10\\nvalue = [[6.67]\\n[3.13]\\n[5.51]\\n[2.17]\\n[2.0]]'),\n",
       " Text(285.12, 69.18545454545455, 'X[1] <= 3.15\\nmse = 0.015\\nsamples = 3\\nvalue = [[6.433]\\n[3.1]\\n[5.433]\\n[1.967]\\n[2.0]]'),\n",
       " Text(282.96000000000004, 49.418181818181836, 'X[1] <= 3.05\\nmse = 0.001\\nsamples = 2\\nvalue = [[6.45]\\n[3.05]\\n[5.5]\\n[1.8]\\n[2.0]]'),\n",
       " Text(280.8, 29.650909090909096, 'mse = -0.0\\nsamples = 1\\nvalue = [[6.5]\\n[3.0]\\n[5.5]\\n[1.8]\\n[2.0]]'),\n",
       " Text(285.12, 29.650909090909096, 'mse = 0.0\\nsamples = 1\\nvalue = [[6.4]\\n[3.1]\\n[5.5]\\n[1.8]\\n[2.0]]'),\n",
       " Text(287.28000000000003, 49.418181818181836, 'mse = -0.0\\nsamples = 1\\nvalue = [[6.4]\\n[3.2]\\n[5.3]\\n[2.3]\\n[2.0]]'),\n",
       " Text(295.92, 69.18545454545455, 'X[2] <= 5.55\\nmse = 0.015\\nsamples = 7\\nvalue = [[6.771]\\n[3.143]\\n[5.543]\\n[2.257]\\n[2.0]]'),\n",
       " Text(291.6, 49.418181818181836, 'X[2] <= 5.3\\nmse = 0.007\\nsamples = 3\\nvalue = [[6.8]\\n[3.033]\\n[5.367]\\n[2.167]\\n[2.0]]'),\n",
       " Text(289.44, 29.650909090909096, 'mse = -0.0\\nsamples = 1\\nvalue = [[6.7]\\n[3.0]\\n[5.2]\\n[2.3]\\n[2.0]]'),\n",
       " Text(293.76, 29.650909090909096, 'X[0] <= 6.85\\nmse = 0.001\\nsamples = 2\\nvalue = [[6.85]\\n[3.05]\\n[5.45]\\n[2.1]\\n[2.0]]'),\n",
       " Text(291.6, 9.883636363636384, 'mse = -0.0\\nsamples = 1\\nvalue = [[6.8]\\n[3.0]\\n[5.5]\\n[2.1]\\n[2.0]]'),\n",
       " Text(295.92, 9.883636363636384, 'mse = 0.0\\nsamples = 1\\nvalue = [[6.9]\\n[3.1]\\n[5.4]\\n[2.1]\\n[2.0]]'),\n",
       " Text(300.24, 49.418181818181836, 'X[2] <= 5.65\\nmse = 0.008\\nsamples = 4\\nvalue = [[6.75]\\n[3.225]\\n[5.675]\\n[2.325]\\n[2.0]]'),\n",
       " Text(298.08000000000004, 29.650909090909096, 'mse = 0.0\\nsamples = 1\\nvalue = [[6.7]\\n[3.1]\\n[5.6]\\n[2.4]\\n[2.0]]'),\n",
       " Text(302.40000000000003, 29.650909090909096, 'X[1] <= 3.25\\nmse = 0.008\\nsamples = 3\\nvalue = [[6.767]\\n[3.267]\\n[5.7]\\n[2.3]\\n[2.0]]'),\n",
       " Text(300.24, 9.883636363636384, 'mse = -0.0\\nsamples = 1\\nvalue = [[6.9]\\n[3.2]\\n[5.7]\\n[2.3]\\n[2.0]]'),\n",
       " Text(304.56, 9.883636363636384, 'mse = 0.008\\nsamples = 2\\nvalue = [[6.7]\\n[3.3]\\n[5.7]\\n[2.3]\\n[2.0]]'),\n",
       " Text(322.92, 148.25454545454545, 'X[1] <= 3.4\\nmse = 0.075\\nsamples = 10\\nvalue = [[7.48]\\n[3.17]\\n[6.31]\\n[2.1]\\n[2.0]]'),\n",
       " Text(317.52000000000004, 128.48727272727274, 'X[2] <= 6.45\\nmse = 0.046\\nsamples = 7\\nvalue = [[7.429]\\n[2.929]\\n[6.271]\\n[2.043]\\n[2.0]]'),\n",
       " Text(313.20000000000005, 108.72, 'X[0] <= 7.55\\nmse = 0.023\\nsamples = 5\\nvalue = [[7.34]\\n[2.98]\\n[6.08]\\n[1.98]\\n[2.0]]'),\n",
       " Text(311.04, 88.95272727272729, 'X[0] <= 7.25\\nmse = 0.014\\nsamples = 4\\nvalue = [[7.25]\\n[2.975]\\n[6.075]\\n[1.9]\\n[2.0]]'),\n",
       " Text(306.72, 69.18545454545455, 'X[2] <= 5.95\\nmse = 0.008\\nsamples = 2\\nvalue = [[7.15]\\n[3.1]\\n[5.95]\\n[1.95]\\n[2.0]]'),\n",
       " Text(304.56, 49.418181818181836, 'mse = -0.0\\nsamples = 1\\nvalue = [[7.1]\\n[3.0]\\n[5.9]\\n[2.1]\\n[2.0]]'),\n",
       " Text(308.88, 49.418181818181836, 'mse = 0.0\\nsamples = 1\\nvalue = [[7.2]\\n[3.2]\\n[6.0]\\n[1.8]\\n[2.0]]'),\n",
       " Text(315.36, 69.18545454545455, 'X[1] <= 2.85\\nmse = 0.004\\nsamples = 2\\nvalue = [[7.35]\\n[2.85]\\n[6.2]\\n[1.85]\\n[2.0]]'),\n",
       " Text(313.20000000000005, 49.418181818181836, 'mse = 0.0\\nsamples = 1\\nvalue = [[7.4]\\n[2.8]\\n[6.1]\\n[1.9]\\n[2.0]]'),\n",
       " Text(317.52000000000004, 49.418181818181836, 'mse = 0.0\\nsamples = 1\\nvalue = [[7.3]\\n[2.9]\\n[6.3]\\n[1.8]\\n[2.0]]'),\n",
       " Text(315.36, 88.95272727272729, 'mse = 0.0\\nsamples = 1\\nvalue = [[7.7]\\n[3.0]\\n[6.1]\\n[2.3]\\n[2.0]]'),\n",
       " Text(321.84000000000003, 108.72, 'X[0] <= 7.65\\nmse = 0.015\\nsamples = 2\\nvalue = [[7.65]\\n[2.8]\\n[6.75]\\n[2.2]\\n[2.0]]'),\n",
       " Text(319.68, 88.95272727272729, 'mse = -0.0\\nsamples = 1\\nvalue = [[7.6]\\n[3.0]\\n[6.6]\\n[2.1]\\n[2.0]]'),\n",
       " Text(324.0, 88.95272727272729, 'mse = -0.0\\nsamples = 1\\nvalue = [[7.7]\\n[2.6]\\n[6.9]\\n[2.3]\\n[2.0]]'),\n",
       " Text(328.32000000000005, 128.48727272727274, 'X[0] <= 7.45\\nmse = 0.04\\nsamples = 3\\nvalue = [[7.6]\\n[3.733]\\n[6.4]\\n[2.233]\\n[2.0]]'),\n",
       " Text(326.16, 108.72, 'mse = 0.0\\nsamples = 1\\nvalue = [[7.2]\\n[3.6]\\n[6.1]\\n[2.5]\\n[2.0]]'),\n",
       " Text(330.48, 108.72, 'X[2] <= 6.55\\nmse = 0.008\\nsamples = 2\\nvalue = [[7.8]\\n[3.8]\\n[6.55]\\n[2.1]\\n[2.0]]'),\n",
       " Text(328.32000000000005, 88.95272727272729, 'mse = 0.0\\nsamples = 1\\nvalue = [[7.9]\\n[3.8]\\n[6.4]\\n[2.0]\\n[2.0]]'),\n",
       " Text(332.64000000000004, 88.95272727272729, 'mse = -0.0\\nsamples = 1\\nvalue = [[7.7]\\n[3.8]\\n[6.7]\\n[2.2]\\n[2.0]]')]"
      ]
     },
     "execution_count": 74,
     "metadata": {},
     "output_type": "execute_result"
    },
    {
     "data": {
      "image/png": "[encoded data removed]",
      "text/plain": [
       "<Figure size 432x288 with 1 Axes>"
      ]
     },
     "metadata": {
      "needs_background": "light"
     },
     "output_type": "display_data"
    }
   ],
   "source": [
    "tree.plot_tree(model)"
   ]
  },
  {
   "cell_type": "code",
   "execution_count": 75,
   "id": "42167458",
   "metadata": {},
   "outputs": [],
   "source": [
    "preds=model.predict(x_test)"
   ]
  },
  {
   "cell_type": "code",
   "execution_count": 76,
   "id": "225bdde8",
   "metadata": {},
   "outputs": [
    {
     "data": {
      "text/plain": [
       "array([[4.7 , 3.2 , 1.3 , 0.2 , 0.  ],\n",
       "       [6.1 , 2.9 , 4.7 , 1.4 , 1.  ],\n",
       "       [6.4 , 3.2 , 4.5 , 1.5 , 1.  ],\n",
       "       [7.1 , 3.  , 5.9 , 2.1 , 2.  ],\n",
       "       [5.7 , 2.8 , 4.1 , 1.3 , 1.  ],\n",
       "       [5.6 , 2.5 , 3.9 , 1.1 , 1.  ],\n",
       "       [6.9 , 3.2 , 5.7 , 2.3 , 2.  ],\n",
       "       [5.1 , 3.8 , 1.5 , 0.3 , 0.  ],\n",
       "       [6.4 , 2.8 , 5.6 , 2.15, 2.  ],\n",
       "       [4.8 , 3.  , 1.4 , 0.3 , 0.  ],\n",
       "       [6.5 , 3.  , 5.5 , 1.8 , 2.  ],\n",
       "       [6.2 , 2.8 , 4.8 , 1.8 , 2.  ],\n",
       "       [6.3 , 2.5 , 5.  , 1.9 , 2.  ],\n",
       "       [4.9 , 3.  , 1.4 , 0.2 , 0.  ],\n",
       "       [5.1 , 3.5 , 1.4 , 0.25, 0.  ],\n",
       "       [7.7 , 2.6 , 6.9 , 2.3 , 2.  ],\n",
       "       [4.4 , 3.  , 1.3 , 0.2 , 0.  ],\n",
       "       [6.7 , 3.1 , 4.7 , 1.5 , 1.  ],\n",
       "       [5.6 , 2.8 , 4.9 , 2.  , 2.  ],\n",
       "       [5.  , 2.3 , 3.3 , 1.  , 1.  ],\n",
       "       [6.7 , 3.1 , 4.7 , 1.5 , 1.  ],\n",
       "       [5.6 , 2.8 , 4.9 , 2.  , 2.  ],\n",
       "       [6.4 , 2.8 , 5.6 , 2.15, 2.  ],\n",
       "       [5.4 , 3.4 , 1.5 , 0.4 , 0.  ],\n",
       "       [6.3 , 2.5 , 5.  , 1.9 , 2.  ],\n",
       "       [5.5 , 2.4 , 3.8 , 1.1 , 1.  ],\n",
       "       [5.  , 2.3 , 3.3 , 1.  , 1.  ],\n",
       "       [4.9 , 3.1 , 1.5 , 0.1 , 0.  ],\n",
       "       [6.5 , 3.  , 5.5 , 1.8 , 2.  ],\n",
       "       [6.  , 2.7 , 5.1 , 1.6 , 1.  ]])"
      ]
     },
     "execution_count": 76,
     "metadata": {},
     "output_type": "execute_result"
    }
   ],
   "source": [
    "preds"
   ]
  },
  {
   "cell_type": "code",
   "execution_count": 78,
   "id": "8361c704",
   "metadata": {},
   "outputs": [
    {
     "data": {
      "text/plain": [
       "0.8999256182364027"
      ]
     },
     "execution_count": 78,
     "metadata": {},
     "output_type": "execute_result"
    }
   ],
   "source": [
    "model.score(x_test,y_test)"
   ]
  },
  {
   "cell_type": "code",
   "execution_count": null,
   "id": "23674253",
   "metadata": {},
   "outputs": [],
   "source": []
  },
  {
   "cell_type": "markdown",
   "id": "7ea525df",
   "metadata": {},
   "source": []
  },
  {
   "cell_type": "markdown",
   "id": "465eb0cb",
   "metadata": {},
   "source": [
    "model.score(x_test,y_test)"
   ]
  }
 ],
 "metadata": {
  "kernelspec": {
   "display_name": "Python 3 (ipykernel)",
   "language": "python",
   "name": "python3"
  },
  "language_info": {
   "codemirror_mode": {
    "name": "ipython",
    "version": 3
   },
   "file_extension": ".py",
   "mimetype": "text/x-python",
   "name": "python",
   "nbconvert_exporter": "python",
   "pygments_lexer": "ipython3",
   "version": "3.9.7"
  }
 },
 "nbformat": 4,
 "nbformat_minor": 5
}
